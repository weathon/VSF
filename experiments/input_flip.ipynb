{
 "cells": [
  {
   "cell_type": "code",
   "execution_count": 1,
   "id": "dfaa08da",
   "metadata": {},
   "outputs": [
    {
     "data": {
      "application/vnd.jupyter.widget-view+json": {
       "model_id": "8b08c750b5be4bce9cf19ac5f2f96acc",
       "version_major": 2,
       "version_minor": 0
      },
      "text/plain": [
       "Loading pipeline components...:   0%|          | 0/9 [00:00<?, ?it/s]"
      ]
     },
     "metadata": {},
     "output_type": "display_data"
    },
    {
     "data": {
      "application/vnd.jupyter.widget-view+json": {
       "model_id": "d1a022befea44c6384e33bb3c21d1f23",
       "version_major": 2,
       "version_minor": 0
      },
      "text/plain": [
       "Loading checkpoint shards:   0%|          | 0/2 [00:00<?, ?it/s]"
      ]
     },
     "metadata": {},
     "output_type": "display_data"
    },
    {
     "name": "stderr",
     "output_type": "stream",
     "text": [
      "You set `add_prefix_space`. The tokenizer needs to be converted from the slow tokenizers\n"
     ]
    },
    {
     "data": {
      "application/vnd.jupyter.widget-view+json": {
       "model_id": "5c30119f4aa94229bb0e604100503812",
       "version_major": 2,
       "version_minor": 0
      },
      "text/plain": [
       "Loading checkpoint shards:   0%|          | 0/2 [00:00<?, ?it/s]"
      ]
     },
     "metadata": {},
     "output_type": "display_data"
    }
   ],
   "source": [
    "import torch\n",
    "from diffusers import StableDiffusion3Pipeline\n",
    "\n",
    "pipe = StableDiffusion3Pipeline.from_pretrained(\"stabilityai/stable-diffusion-3.5-large-turbo\", torch_dtype=torch.bfloat16)\n",
    "pipe = pipe.to(\"cuda\")"
   ]
  },
  {
   "cell_type": "code",
   "execution_count": 12,
   "id": "d650ba83",
   "metadata": {},
   "outputs": [
    {
     "data": {
      "application/vnd.jupyter.widget-view+json": {
       "model_id": "4e8936b6fd8a43ea967f179791379e8d",
       "version_major": 2,
       "version_minor": 0
      },
      "text/plain": [
       "  0%|          | 0/4 [00:00<?, ?it/s]"
      ]
     },
     "metadata": {},
     "output_type": "display_data"
    }
   ],
   "source": [
    "prompt = \"a winter landscape in Canada\"\n",
    "negative_prompt = \"snow\"\n",
    "(\n",
    "    pos_prompt_embeds,\n",
    "    _,\n",
    "    pooled_prompt_embeds,\n",
    "    _,\n",
    ") = pipe.encode_prompt(\n",
    "    prompt=prompt,\n",
    "    prompt_2=prompt,\n",
    "    prompt_3=prompt,\n",
    "    do_classifier_free_guidance=False,\n",
    ")\n",
    "(\n",
    "    neg_prompt_embeds,\n",
    "    _,\n",
    "    neg_pooled_prompt_embeds,\n",
    "    _,\n",
    ") = pipe.encode_prompt(\n",
    "    prompt=negative_prompt,\n",
    "    prompt_2=negative_prompt,\n",
    "    prompt_3=negative_prompt,\n",
    "    do_classifier_free_guidance=False,\n",
    ")\n",
    "prompt_embeds = torch.cat([pos_prompt_embeds, -3 * neg_prompt_embeds], dim=1)\n",
    "\n",
    "image = pipe(\n",
    "    prompt_embeds=prompt_embeds,\n",
    "    pooled_prompt_embeds = pooled_prompt_embeds,\n",
    "    num_inference_steps=4,\n",
    "    guidance_scale=0.0,\n",
    ").images[0]\n",
    "image.save(\"capybara.png\")\n"
   ]
  }
 ],
 "metadata": {
  "kernelspec": {
   "display_name": "neg",
   "language": "python",
   "name": "python3"
  },
  "language_info": {
   "codemirror_mode": {
    "name": "ipython",
    "version": 3
   },
   "file_extension": ".py",
   "mimetype": "text/x-python",
   "name": "python",
   "nbconvert_exporter": "python",
   "pygments_lexer": "ipython3",
   "version": "3.10.17"
  }
 },
 "nbformat": 4,
 "nbformat_minor": 5
}
